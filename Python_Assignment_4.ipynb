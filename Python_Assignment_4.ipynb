{
 "cells": [
  {
   "cell_type": "markdown",
   "metadata": {},
   "source": [
    "1.1 Write a Python Program(with class concepts) to find the area of the triangle using the below\n",
    "formula.\n",
    "\n",
    "area = (s*(s-a)*(s-b)*(s-c)) ** 0.5\n",
    "\n",
    "Function to take the length of the sides of triangle from user should be defined in the parent\n",
    "\n",
    "class and function to calculate the area should be defined in subclass."
   ]
  },
  {
   "cell_type": "code",
   "execution_count": 69,
   "metadata": {},
   "outputs": [
    {
     "data": {
      "text/plain": [
       "<__main__.Triangle_parent at 0x51f3288>"
      ]
     },
     "execution_count": 69,
     "metadata": {},
     "output_type": "execute_result"
    }
   ],
   "source": [
    "class Triangle_parent():\n",
    "    \n",
    "    def __init__(self, a, b, c):\n",
    "        \n",
    "     # Initialize variables \n",
    "        self.a = a\n",
    "        self.b = b\n",
    "        self.c = c\n",
    "        \n",
    "Triangle_parent(1,2,3)             "
   ]
  },
  {
   "cell_type": "code",
   "execution_count": 70,
   "metadata": {},
   "outputs": [
    {
     "name": "stdout",
     "output_type": "stream",
     "text": [
      "The area of triangle is: 6.0\n"
     ]
    }
   ],
   "source": [
    "# Inheritance where child class (Triangle_child) inherit the properties of parent class (Triangle_parent).\n",
    "class Triangle_child(Triangle_parent): \n",
    "    def __init__(self,a,b,c):\n",
    "        super(Triangle_child,self).__init__(a, b, c)\n",
    "     \n",
    "    def get_area(self):\n",
    "        s = (self.a + self.b + self.c)/2\n",
    "        \n",
    "   # area = (s(s-a)(s-b)(s-c)) * 0.5    \n",
    "        return (s*(s-self.a)*(s-self.b)*(s-self.c))**0.5\n",
    "\n",
    "# Create object \n",
    "m=Triangle_child(3, 4, 5)\n",
    "\n",
    "\n",
    "# Invoke the function \n",
    "print(\"The area of triangle is:\",\"\" + str(m.get_area()))\n",
    "    "
   ]
  },
  {
   "cell_type": "markdown",
   "metadata": {},
   "source": [
    "-------------------------------------------------------------------------------------------------------------------------------"
   ]
  },
  {
   "cell_type": "markdown",
   "metadata": {},
   "source": [
    "1.2 Write a function filter_long_words() that takes a list of words and an integer n and returns\n",
    "\n",
    "the list of words that are longer than n."
   ]
  },
  {
   "cell_type": "code",
   "execution_count": 72,
   "metadata": {},
   "outputs": [
    {
     "name": "stdout",
     "output_type": "stream",
     "text": [
      "['This', 'ineuron', 'ML/DL', 'training', '5555']\n"
     ]
    }
   ],
   "source": [
    "# Defined the integer n. \n",
    "\n",
    "n=3\n",
    "\n",
    "def filter_long_words(n,str):  \n",
    "    word_len = []  \n",
    "    txt = str.split(\" \")  \n",
    "    for x in txt:  \n",
    "        if len(x) > n:  \n",
    "            word_len.append(x)  \n",
    "    return word_len   \n",
    "\n",
    "\n",
    "print(filter_long_words(n, \"This is a ineuron ML/DL training 1 22 5555\"))  "
   ]
  },
  {
   "cell_type": "markdown",
   "metadata": {},
   "source": [
    "------------------------------------------------------------------------------------------------------------------------------"
   ]
  },
  {
   "cell_type": "markdown",
   "metadata": {},
   "source": [
    "\n",
    "2.1 Write a Python program using function concept that maps list of words into a list of integers\n",
    "\n",
    "representing the lengths of the corresponding words.\n",
    "\n",
    "Hint: If a list [ ab,cde,erty] is passed on to the python function output should come as [2,3,4]\n",
    "    \n",
    "Here 2,3 and 4 are the lengths of the words in the list."
   ]
  },
  {
   "cell_type": "code",
   "execution_count": 73,
   "metadata": {},
   "outputs": [
    {
     "name": "stdout",
     "output_type": "stream",
     "text": [
      "The lengths of the words in the list: [7, 8, 3, 4, 8, 7]\n"
     ]
    }
   ],
   "source": [
    "# Create list \n",
    "words=[\"Machine\",\"learning\",\"and\",\"deep\",\"learning\",\"masters\"]\n",
    "\n",
    "# Create function\n",
    "def words_length(words):\n",
    "    \n",
    "    # Use map function \n",
    "    return list(map(lambda x: len(x), words))\n",
    "\n",
    "print(\"The lengths of the words in the list:\",\"\"+str(words_length(words)))"
   ]
  },
  {
   "cell_type": "markdown",
   "metadata": {},
   "source": [
    "-----------------------------------------------------------------------------------------------------------------------------"
   ]
  },
  {
   "cell_type": "markdown",
   "metadata": {},
   "source": [
    "2.2 Write a Python function which takes a character (i.e. a string of length 1) and returns True if\n",
    "\n",
    "it is a vowel, False otherwise."
   ]
  },
  {
   "cell_type": "code",
   "execution_count": 52,
   "metadata": {},
   "outputs": [],
   "source": [
    "# Create a function\n",
    "def vowel(char):\n",
    "    if char in 'aeiou':\n",
    "        return True\n",
    "    if char in 'AEIOU':\n",
    "        return True\n",
    "    else:\n",
    "        return False\n"
   ]
  },
  {
   "cell_type": "code",
   "execution_count": 53,
   "metadata": {},
   "outputs": [
    {
     "name": "stdout",
     "output_type": "stream",
     "text": [
      "True\n"
     ]
    }
   ],
   "source": [
    "# Invoke function\n",
    "\n",
    "v1=vowel(\"a\")\n",
    "print(v1)"
   ]
  },
  {
   "cell_type": "code",
   "execution_count": 51,
   "metadata": {},
   "outputs": [
    {
     "name": "stdout",
     "output_type": "stream",
     "text": [
      "False\n"
     ]
    }
   ],
   "source": [
    "v2=vowel(\"b\")\n",
    "print(v2)"
   ]
  },
  {
   "cell_type": "code",
   "execution_count": null,
   "metadata": {},
   "outputs": [],
   "source": []
  }
 ],
 "metadata": {
  "kernelspec": {
   "display_name": "Python 3",
   "language": "python",
   "name": "python3"
  },
  "language_info": {
   "codemirror_mode": {
    "name": "ipython",
    "version": 3
   },
   "file_extension": ".py",
   "mimetype": "text/x-python",
   "name": "python",
   "nbconvert_exporter": "python",
   "pygments_lexer": "ipython3",
   "version": "3.7.6"
  }
 },
 "nbformat": 4,
 "nbformat_minor": 4
}
